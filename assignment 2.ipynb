{
 "cells": [
  {
   "cell_type": "markdown",
   "id": "740c4276-8b18-4a97-80d5-ba927c004d22",
   "metadata": {},
   "source": [
    "Q1.what are the two values of the boolean data type ? how do you  write them"
   ]
  },
  {
   "cell_type": "markdown",
   "id": "5abfa853-b5b8-4898-b135-7d4008e4b272",
   "metadata": {},
   "source": [
    "Ans: the Boolean data represnts a logical values:true and false.in programming,thes values are typically written in lowercase.\n",
    "1.python:\n",
    "*true\n",
    "*false"
   ]
  },
  {
   "cell_type": "markdown",
   "id": "0041dd83-084d-48ec-a4c8-d9347c04acfb",
   "metadata": {},
   "source": [
    "Q2.what are the three different types of Boolean operators"
   ]
  },
  {
   "cell_type": "markdown",
   "id": "0f311269-2b59-46e9-aa21-e3f3e0c16201",
   "metadata": {},
   "source": [
    "Ans: 1.AND Operators (&&):the AND operators return true if both operands are true ,and false otherwise.\n",
    "for example :*True AND True =True\n",
    "*True AND False=False\n",
    "*False AND True=False\n",
    "*False AND False=False\n",
    "2.OR Operator (||):The operatoer returns true if at least one of the operands is true ,and falsebif both operands are false \n",
    "*True OR True=True\n",
    "*True OR False=True\n",
    "*False OR True=True\n",
    "*False OR False=False\n",
    "3.NOT Operator (!):The NOT operator,also known as the negation operator,is a unary operator that reverses the boolean values it operand.if the operand is true ,the NOT operator returns false and if the operand is false ,it returns true \n",
    "for example:*NOT True =False\n",
    "*NOT False=True"
   ]
  },
  {
   "cell_type": "markdown",
   "id": "c72e0399-6ea0-45c1-9e8c-3028f4796b1a",
   "metadata": {},
   "source": [
    "Q3.Make a list  of each Boolean operators truth table (every possible combination of Boolean value for the operator and what it evaluate "
   ]
  },
  {
   "cell_type": "code",
   "execution_count": null,
   "id": "93485d9b-41ec-4264-81cf-97fac0a18b4e",
   "metadata": {},
   "outputs": [],
   "source": [
    "Ans: 1. AND Operator(&&):\n",
    "| A   |   B   | A && B|\n",
    "|false|false  | false |\n",
    "|false|true   | false |\n",
    "|true |false  | false |\n",
    "|true |true   |  true |\n",
    "\n",
    "\n",
    "2. OR Operator (||)\n",
    "|  A  |  B  | A || B|\n",
    "|false|false| false |\n",
    "|false|true | true  |\n",
    "|true|false | true  |\n",
    "|true|true  | true  |\n",
    "\n",
    "3.NOT Operator (!)\n",
    "|  A  |  !A|\n",
    "|false|true|\n",
    "|true|false|\n",
    "\n",
    "4.XOR Operator(^)\n",
    "|  A   |   B  |  A^B |\n",
    "| false| false|false|\n",
    "|false | true |true|\n",
    "|true  |false |true|\n",
    "|true  |true  |true|\n",
    "\n",
    "5.NAND Operator(alternative representation of AND)\n",
    "\n",
    "|   A  |   B  |  A NAND B |\n",
    "|false | false|  true     |\n",
    "|false | true |  true     |\n",
    "| true | false|  true     |\n",
    "|true  | true |  true     |\n"
   ]
  },
  {
   "cell_type": "markdown",
   "id": "520da9ed-17d0-44d3-9f66-99cff47cd8a2",
   "metadata": {},
   "source": [
    "Q4.what are the values of the following expressions?"
   ]
  },
  {
   "cell_type": "markdown",
   "id": "5356e3ba-b84a-4052-9fb5-49c3807d55a2",
   "metadata": {},
   "source": [
    "Ans:Expression 1. (5>4)and(3==5) :false\n",
    "expression 2.not(5>4) :false\n",
    "expression 3.(5>4)or(3==) :true\n",
    "expression 4.not(5>4)or(3==5):false\n",
    "expression 5.(not false)or(not true):true"
   ]
  },
  {
   "cell_type": "markdown",
   "id": "731e708c-36b6-4701-8ac8-5af501a54b49",
   "metadata": {},
   "source": [
    "Q 5.the six comparison operators ?"
   ]
  },
  {
   "cell_type": "markdown",
   "id": "734f565d-dfc9-48f9-ae26-188aa2b30983",
   "metadata": {},
   "source": [
    "Ans : 1.equal to(==)\n",
    "2. Not Equal to (!=)\n",
    "3.greater than(>)\n",
    "4.less than(<)\n",
    "5.greater than equal(>=)\n",
    "6.less than equal(<=\n"
   ]
  },
  {
   "cell_type": "markdown",
   "id": "99f2a340-199b-4204-af7b-f86b88f69941",
   "metadata": {},
   "source": [
    "Q6.how do you tell difference between the equal to and assignment operator ?describe  a condition and when you would use one  "
   ]
  },
  {
   "cell_type": "code",
   "execution_count": null,
   "id": "830fa26d-198c-4d66-b375-e1f72feced2f",
   "metadata": {},
   "outputs": [],
   "source": [
    "#Ans 1. equal to operator:the equal to operator  is   typically represented as \"==\".it is used to compare the equality of two values or expressions .\n",
    "for examle x=5\n",
    "y=7 \n",
    "if x==y:\n",
    "    print(\"x is equal to y\")\n",
    "    else:\n",
    "        print(\"x is not equal to y\")\n",
    "#2. assignment operator:the assignment operator is typically represnted as\"=\".it is is used to assign a value to a varible.\n",
    "#for example \n",
    "x=5"
   ]
  },
  {
   "cell_type": "code",
   "execution_count": null,
   "id": "42f2c55e-29bf-401a-8fe3-280ec3f9aa4c",
   "metadata": {},
   "outputs": [],
   "source": [
    "#Q7.identify the three blocks in this code:\n",
    "\n",
    "\n",
    "spam=0\n",
    "if spam==10:\n",
    "    print('eggs')\n",
    "    if spam>5:\n",
    "        print('bacon')\n",
    "else:\n",
    "            print('ham')\n",
    "            print('spam')\n",
    "            print('spam')"
   ]
  },
  {
   "cell_type": "code",
   "execution_count": null,
   "id": "b4b1c94e-f1fe-43d2-a6e5-b507538829f8",
   "metadata": {},
   "outputs": [],
   "source": [
    "#Q8.write code that prints hello if 1 is stored in spam,prints howdy if 2 is stored in spam ,and prints greertings! if anything else is stored in spam\n",
    "spam=2\n",
    "if spam==1:\n",
    "    print('hello')\n",
    "elif spam==2:\n",
    "    print('howdy')\n",
    "    \n",
    "else:\n",
    "    print('greetings!')"
   ]
  },
  {
   "cell_type": "markdown",
   "id": "8248e1f1-f84d-40f3-b9e2-f5ac9a1fa8d0",
   "metadata": {},
   "source": [
    "#Q9.if you programme is stuck in an endless loop ,what keys you will press?"
   ]
  },
  {
   "cell_type": "markdown",
   "id": "e7742bc2-3e35-450f-8709-8abf3f8f15ca",
   "metadata": {},
   "source": [
    "Ans Ctrl+C:this key combination is a common way to send an interrrupt signal to the running programme .it works in most command line interfaces and can help terminate the program."
   ]
  },
  {
   "cell_type": "markdown",
   "id": "daa1cb92-cac9-4c3f-90c8-eaeeed5d9177",
   "metadata": {},
   "source": [
    "Q.10 how can you tell the differnce between break and continue ."
   ]
  },
  {
   "cell_type": "markdown",
   "id": "3719fc87-9266-4c8d-bbf1-957f60a85a74",
   "metadata": {},
   "source": [
    "Ans 1. \"break\"statement:when the \"break\" statement is encountered within a  loop (such as a \"for \" or \"while\"loop),it immediately terminate the loop and resumes execution at the next statement after the loop.it break out of loop entirely regardless of any remaining iterations \n",
    "2.\"continue\" statement when the \"continue \"statement is encountered within a loop it skips the remaining code within  ythe current iteration of the loop .in other words ,it jumps to the beginning of the loop and starts the next iteration. \n"
   ]
  },
  {
   "cell_type": "markdown",
   "id": "2167d2be-b291-4a7e-b153-48a4b9749908",
   "metadata": {},
   "source": [
    "Q.11 In a for loop ,what is the difference between range (10),range(0,10)and range(0,10,1)?"
   ]
  },
  {
   "cell_type": "markdown",
   "id": "429c7937-942e-4e9f-bb9d-a0b3835e5cf1",
   "metadata": {},
   "source": [
    "Ans 1.'range(10)':this form of 'range()' takes a single argument which represnts the stop value .it generates a sequenceb of numbers starting from 0(default start value )in the case range (10) will generate numbers from 0 to 9 ,resulting in a loop that executes 10 times.\n",
    "2.'range(0,10)':'range()' is called with two arguments the start and stop values .it generares sequence of numbers starting from specified start value (0 in this case ).the loop will be iterate from 0 to 9,executing 10 times .\n",
    "3.'range(0,10,1)':this form of 'range()' takes three arguments the start stop and step values .it generares a sequence of number starting  the loop will iterate from 0 to 9,increment by 1 in each itration .  "
   ]
  },
  {
   "cell_type": "code",
   "execution_count": null,
   "id": "7ef29dae-4958-49a5-b60d-59854371a6fe",
   "metadata": {},
   "outputs": [],
   "source": [
    "#Q12.write a short program that prints the number 1 to 10 using a for loop then write an equivalent program that prints the numbers 1 to 10\n",
    "#for loop\n",
    "for i in range(1,11):\n",
    "print(i)\n",
    "#while loop \n",
    "i=1\n",
    "while i<11:\n",
    "    print(i)\n",
    "    i+=1"
   ]
  },
  {
   "cell_type": "code",
   "execution_count": null,
   "id": "925ef070-bf9b-448d-918d-63cc1b399da9",
   "metadata": {},
   "outputs": [],
   "source": [
    "#Q13.if you had a function named bacon ()inside a module named spam ,how would you call it after importing spam?\n",
    "Ans \"spam\" you can call the function \"bacon()\"using the dot notation .\n",
    "import spam\n",
    "spam.bacon()"
   ]
  }
 ],
 "metadata": {
  "kernelspec": {
   "display_name": "Python 3 (ipykernel)",
   "language": "python",
   "name": "python3"
  },
  "language_info": {
   "codemirror_mode": {
    "name": "ipython",
    "version": 3
   },
   "file_extension": ".py",
   "mimetype": "text/x-python",
   "name": "python",
   "nbconvert_exporter": "python",
   "pygments_lexer": "ipython3",
   "version": "3.10.6"
  },
  "toc-autonumbering": true
 },
 "nbformat": 4,
 "nbformat_minor": 5
}
